{
 "cells": [
  {
   "cell_type": "code",
   "execution_count": 1,
   "id": "871ef0b0",
   "metadata": {},
   "outputs": [],
   "source": [
    "from kafka import KafkaProducer\n",
    "from time import sleep\n",
    "import json\n",
    "\n",
    "from datetime import datetime\n",
    "from csv import reader\n",
    "import pandas as pd"
   ]
  },
  {
   "cell_type": "code",
   "execution_count": 2,
   "id": "05904c46",
   "metadata": {},
   "outputs": [],
   "source": [
    "producer = KafkaProducer(bootstrap_servers=['localhost:9092'],api_version=(2,0,0))"
   ]
  },
  {
   "cell_type": "code",
   "execution_count": null,
   "id": "1881171b",
   "metadata": {},
   "outputs": [],
   "source": [
    "import time\n",
    "import shutil\n",
    "from watchdog.observers import Observer\n",
    "from watchdog.events import FileSystemEventHandler\n",
    "finished=\"D:\\IMEWS - Architect\\Python Code\\listener\\finished\"\n",
    "\n",
    "class Watcher:\n",
    "    DIRECTORY_TO_WATCH = \"D:\\IMEWS - Architect\\Python Code\\listener\\input\"\n",
    "\n",
    "    def __init__(self):\n",
    "        self.observer = Observer()\n",
    "\n",
    "    def run(self):\n",
    "        event_handler = Handler()\n",
    "        self.observer.schedule(event_handler, self.DIRECTORY_TO_WATCH, recursive=True)\n",
    "        self.observer.start()\n",
    "        try:\n",
    "            while True:\n",
    "                time.sleep(5)\n",
    "        except:\n",
    "            self.observer.stop()\n",
    "            print(\"Error\")\n",
    "\n",
    "        self.observer.join()\n",
    "\n",
    "\n",
    "class Handler(FileSystemEventHandler):\n",
    "\n",
    "    @staticmethod\n",
    "    def on_any_event(event):\n",
    "        if event.is_directory:\n",
    "            return None\n",
    "\n",
    "        elif event.event_type == 'created':\n",
    "            \n",
    "            # Take any action here when a file is first created.\n",
    "            print(\"Received created event - %s.\" % event.src_path)\n",
    "            filename=event.src_path.split(\"\\\\\")[-1]\n",
    "            print(filename)\n",
    "            if filename.startswith(\"malware\"):\n",
    "                data= pd.read_csv(event.src_path)\n",
    "                records=data.to_dict('records')\n",
    "                for row in records:\n",
    "                    print(row)\n",
    "                    producer.send('malware',bytes(str(row), 'utf-8'))\n",
    "  \n",
    "            shutil.move(event.src_path,finished)\n",
    "\n",
    "        elif event.event_type == 'modified':\n",
    "            # Taken any action here when a file is modified.\n",
    "            print(\"Received modified event - %s.\" % event.src_path)\n",
    "if __name__ == '__main__':\n",
    "    w = Watcher()\n",
    "    w.run()"
   ]
  },
  {
   "cell_type": "code",
   "execution_count": null,
   "id": "310fd2a9",
   "metadata": {},
   "outputs": [],
   "source": []
  }
 ],
 "metadata": {
  "kernelspec": {
   "display_name": "Python 3 (ipykernel)",
   "language": "python",
   "name": "python3"
  },
  "language_info": {
   "codemirror_mode": {
    "name": "ipython",
    "version": 3
   },
   "file_extension": ".py",
   "mimetype": "text/x-python",
   "name": "python",
   "nbconvert_exporter": "python",
   "pygments_lexer": "ipython3",
   "version": "3.8.12"
  }
 },
 "nbformat": 4,
 "nbformat_minor": 5
}
